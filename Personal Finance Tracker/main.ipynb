{
 "cells": [
  {
   "cell_type": "code",
   "execution_count": 3,
   "id": "bdc15329-d656-476c-ad52-23f9b3f0b654",
   "metadata": {},
   "outputs": [],
   "source": [
    "# Tracking Portfolio Project"
   ]
  },
  {
   "cell_type": "code",
   "execution_count": 101,
   "id": "6777b737-bc02-421e-97cb-cfc11386dea7",
   "metadata": {},
   "outputs": [
    {
     "name": "stdout",
     "output_type": "stream",
     "text": [
      "\n",
      "1. Add a new transaction\n",
      "2. View transaction and summary within a date range\n",
      "3. Exit\n"
     ]
    },
    {
     "name": "stdin",
     "output_type": "stream",
     "text": [
      "Enter your choice (1-3):  1\n",
      "Enter de date of transaction (dd-mm-yyyy) or enter for today's date:  19-07-2024\n",
      "Enter the amount:  3000\n",
      "Enter the category('I' for Income or 'E' for Expense:  I\n",
      "Enter description Salary\n"
     ]
    },
    {
     "name": "stdout",
     "output_type": "stream",
     "text": [
      "Entry added succesfully\n",
      "\n",
      "1. Add a new transaction\n",
      "2. View transaction and summary within a date range\n",
      "3. Exit\n"
     ]
    },
    {
     "name": "stdin",
     "output_type": "stream",
     "text": [
      "Enter your choice (1-3):  2\n",
      "Enter the start date (dd-mm-yy):  07-07-2024\n",
      "Enter the end date (dd-mm-yy):  30-07-2024\n"
     ]
    },
    {
     "ename": "ValueError",
     "evalue": "time data \"2025\" doesn't match format \"%d-%m-%Y\", at position 0. You might want to try:\n    - passing `format` if your strings have a consistent format;\n    - passing `format='ISO8601'` if your strings are all ISO8601 but not necessarily in exactly the same format;\n    - passing `format='mixed'`, and the format will be inferred for each element individually. You might want to use `dayfirst` alongside this.",
     "output_type": "error",
     "traceback": [
      "\u001b[1;31m---------------------------------------------------------------------------\u001b[0m",
      "\u001b[1;31mValueError\u001b[0m                                Traceback (most recent call last)",
      "Cell \u001b[1;32mIn[101], line 89\u001b[0m\n\u001b[0;32m     84\u001b[0m             \u001b[38;5;28mprint\u001b[39m(\u001b[38;5;124m'\u001b[39m\u001b[38;5;124mInvalid choice. Enter 1, 2 or 3.\u001b[39m\u001b[38;5;124m'\u001b[39m)\n\u001b[0;32m     88\u001b[0m \u001b[38;5;28;01mif\u001b[39;00m \u001b[38;5;18m__name__\u001b[39m\u001b[38;5;241m==\u001b[39m\u001b[38;5;124m'\u001b[39m\u001b[38;5;124m__main__\u001b[39m\u001b[38;5;124m'\u001b[39m:\n\u001b[1;32m---> 89\u001b[0m     main()\n",
      "Cell \u001b[1;32mIn[101], line 79\u001b[0m, in \u001b[0;36mmain\u001b[1;34m()\u001b[0m\n\u001b[0;32m     77\u001b[0m     start_date\u001b[38;5;241m=\u001b[39mget_date(\u001b[38;5;124m'\u001b[39m\u001b[38;5;124mEnter the start date (dd-mm-yy): \u001b[39m\u001b[38;5;124m'\u001b[39m)\n\u001b[0;32m     78\u001b[0m     end_date\u001b[38;5;241m=\u001b[39mget_date(\u001b[38;5;124m'\u001b[39m\u001b[38;5;124mEnter the end date (dd-mm-yy): \u001b[39m\u001b[38;5;124m'\u001b[39m)\n\u001b[1;32m---> 79\u001b[0m     CSV\u001b[38;5;241m.\u001b[39mget_transaction(start_date,end_date)\n\u001b[0;32m     80\u001b[0m \u001b[38;5;28;01melif\u001b[39;00m choice\u001b[38;5;241m==\u001b[39m\u001b[38;5;124m'\u001b[39m\u001b[38;5;124m3\u001b[39m\u001b[38;5;124m'\u001b[39m:\n\u001b[0;32m     81\u001b[0m     \u001b[38;5;28mprint\u001b[39m(\u001b[38;5;124m'\u001b[39m\u001b[38;5;124mExiting...\u001b[39m\u001b[38;5;124m'\u001b[39m)\n",
      "Cell \u001b[1;32mIn[101], line 38\u001b[0m, in \u001b[0;36mCSV.get_transaction\u001b[1;34m(cls, start_date, end_date)\u001b[0m\n\u001b[0;32m     34\u001b[0m \u001b[38;5;129m@classmethod\u001b[39m\n\u001b[0;32m     35\u001b[0m \u001b[38;5;28;01mdef\u001b[39;00m \u001b[38;5;21mget_transaction\u001b[39m(\u001b[38;5;28mcls\u001b[39m, start_date, end_date):\n\u001b[0;32m     37\u001b[0m     df \u001b[38;5;241m=\u001b[39m pd\u001b[38;5;241m.\u001b[39mread_csv(\u001b[38;5;28mcls\u001b[39m\u001b[38;5;241m.\u001b[39mCSV_FILE)\n\u001b[1;32m---> 38\u001b[0m     df[\u001b[38;5;124m'\u001b[39m\u001b[38;5;124mdate\u001b[39m\u001b[38;5;124m'\u001b[39m] \u001b[38;5;241m=\u001b[39m pd\u001b[38;5;241m.\u001b[39mto_datetime(df[\u001b[38;5;124m'\u001b[39m\u001b[38;5;124mdate\u001b[39m\u001b[38;5;124m'\u001b[39m], \u001b[38;5;28mformat\u001b[39m\u001b[38;5;241m=\u001b[39m\u001b[38;5;28mcls\u001b[39m\u001b[38;5;241m.\u001b[39mFORMAT)\n\u001b[0;32m     39\u001b[0m     start_date \u001b[38;5;241m=\u001b[39m datetime\u001b[38;5;241m.\u001b[39mstrptime(start_date, \u001b[38;5;28mcls\u001b[39m\u001b[38;5;241m.\u001b[39mFORMAT)\n\u001b[0;32m     40\u001b[0m     end_date \u001b[38;5;241m=\u001b[39m datetime\u001b[38;5;241m.\u001b[39mstrptime(end_date, \u001b[38;5;28mcls\u001b[39m\u001b[38;5;241m.\u001b[39mFORMAT)\n",
      "File \u001b[1;32m~\\anaconda3\\Lib\\site-packages\\pandas\\core\\tools\\datetimes.py:1067\u001b[0m, in \u001b[0;36mto_datetime\u001b[1;34m(arg, errors, dayfirst, yearfirst, utc, format, exact, unit, infer_datetime_format, origin, cache)\u001b[0m\n\u001b[0;32m   1065\u001b[0m         result \u001b[38;5;241m=\u001b[39m arg\u001b[38;5;241m.\u001b[39mmap(cache_array)\n\u001b[0;32m   1066\u001b[0m     \u001b[38;5;28;01melse\u001b[39;00m:\n\u001b[1;32m-> 1067\u001b[0m         values \u001b[38;5;241m=\u001b[39m convert_listlike(arg\u001b[38;5;241m.\u001b[39m_values, \u001b[38;5;28mformat\u001b[39m)\n\u001b[0;32m   1068\u001b[0m         result \u001b[38;5;241m=\u001b[39m arg\u001b[38;5;241m.\u001b[39m_constructor(values, index\u001b[38;5;241m=\u001b[39marg\u001b[38;5;241m.\u001b[39mindex, name\u001b[38;5;241m=\u001b[39marg\u001b[38;5;241m.\u001b[39mname)\n\u001b[0;32m   1069\u001b[0m \u001b[38;5;28;01melif\u001b[39;00m \u001b[38;5;28misinstance\u001b[39m(arg, (ABCDataFrame, abc\u001b[38;5;241m.\u001b[39mMutableMapping)):\n",
      "File \u001b[1;32m~\\anaconda3\\Lib\\site-packages\\pandas\\core\\tools\\datetimes.py:433\u001b[0m, in \u001b[0;36m_convert_listlike_datetimes\u001b[1;34m(arg, format, name, utc, unit, errors, dayfirst, yearfirst, exact)\u001b[0m\n\u001b[0;32m    431\u001b[0m \u001b[38;5;66;03m# `format` could be inferred, or user didn't ask for mixed-format parsing.\u001b[39;00m\n\u001b[0;32m    432\u001b[0m \u001b[38;5;28;01mif\u001b[39;00m \u001b[38;5;28mformat\u001b[39m \u001b[38;5;129;01mis\u001b[39;00m \u001b[38;5;129;01mnot\u001b[39;00m \u001b[38;5;28;01mNone\u001b[39;00m \u001b[38;5;129;01mand\u001b[39;00m \u001b[38;5;28mformat\u001b[39m \u001b[38;5;241m!=\u001b[39m \u001b[38;5;124m\"\u001b[39m\u001b[38;5;124mmixed\u001b[39m\u001b[38;5;124m\"\u001b[39m:\n\u001b[1;32m--> 433\u001b[0m     \u001b[38;5;28;01mreturn\u001b[39;00m _array_strptime_with_fallback(arg, name, utc, \u001b[38;5;28mformat\u001b[39m, exact, errors)\n\u001b[0;32m    435\u001b[0m result, tz_parsed \u001b[38;5;241m=\u001b[39m objects_to_datetime64(\n\u001b[0;32m    436\u001b[0m     arg,\n\u001b[0;32m    437\u001b[0m     dayfirst\u001b[38;5;241m=\u001b[39mdayfirst,\n\u001b[1;32m   (...)\u001b[0m\n\u001b[0;32m    441\u001b[0m     allow_object\u001b[38;5;241m=\u001b[39m\u001b[38;5;28;01mTrue\u001b[39;00m,\n\u001b[0;32m    442\u001b[0m )\n\u001b[0;32m    444\u001b[0m \u001b[38;5;28;01mif\u001b[39;00m tz_parsed \u001b[38;5;129;01mis\u001b[39;00m \u001b[38;5;129;01mnot\u001b[39;00m \u001b[38;5;28;01mNone\u001b[39;00m:\n\u001b[0;32m    445\u001b[0m     \u001b[38;5;66;03m# We can take a shortcut since the datetime64 numpy array\u001b[39;00m\n\u001b[0;32m    446\u001b[0m     \u001b[38;5;66;03m# is in UTC\u001b[39;00m\n",
      "File \u001b[1;32m~\\anaconda3\\Lib\\site-packages\\pandas\\core\\tools\\datetimes.py:467\u001b[0m, in \u001b[0;36m_array_strptime_with_fallback\u001b[1;34m(arg, name, utc, fmt, exact, errors)\u001b[0m\n\u001b[0;32m    456\u001b[0m \u001b[38;5;28;01mdef\u001b[39;00m \u001b[38;5;21m_array_strptime_with_fallback\u001b[39m(\n\u001b[0;32m    457\u001b[0m     arg,\n\u001b[0;32m    458\u001b[0m     name,\n\u001b[1;32m   (...)\u001b[0m\n\u001b[0;32m    462\u001b[0m     errors: \u001b[38;5;28mstr\u001b[39m,\n\u001b[0;32m    463\u001b[0m ) \u001b[38;5;241m-\u001b[39m\u001b[38;5;241m>\u001b[39m Index:\n\u001b[0;32m    464\u001b[0m \u001b[38;5;250m    \u001b[39m\u001b[38;5;124;03m\"\"\"\u001b[39;00m\n\u001b[0;32m    465\u001b[0m \u001b[38;5;124;03m    Call array_strptime, with fallback behavior depending on 'errors'.\u001b[39;00m\n\u001b[0;32m    466\u001b[0m \u001b[38;5;124;03m    \"\"\"\u001b[39;00m\n\u001b[1;32m--> 467\u001b[0m     result, tz_out \u001b[38;5;241m=\u001b[39m array_strptime(arg, fmt, exact\u001b[38;5;241m=\u001b[39mexact, errors\u001b[38;5;241m=\u001b[39merrors, utc\u001b[38;5;241m=\u001b[39mutc)\n\u001b[0;32m    468\u001b[0m     \u001b[38;5;28;01mif\u001b[39;00m tz_out \u001b[38;5;129;01mis\u001b[39;00m \u001b[38;5;129;01mnot\u001b[39;00m \u001b[38;5;28;01mNone\u001b[39;00m:\n\u001b[0;32m    469\u001b[0m         unit \u001b[38;5;241m=\u001b[39m np\u001b[38;5;241m.\u001b[39mdatetime_data(result\u001b[38;5;241m.\u001b[39mdtype)[\u001b[38;5;241m0\u001b[39m]\n",
      "File \u001b[1;32mstrptime.pyx:501\u001b[0m, in \u001b[0;36mpandas._libs.tslibs.strptime.array_strptime\u001b[1;34m()\u001b[0m\n",
      "File \u001b[1;32mstrptime.pyx:451\u001b[0m, in \u001b[0;36mpandas._libs.tslibs.strptime.array_strptime\u001b[1;34m()\u001b[0m\n",
      "File \u001b[1;32mstrptime.pyx:583\u001b[0m, in \u001b[0;36mpandas._libs.tslibs.strptime._parse_with_format\u001b[1;34m()\u001b[0m\n",
      "\u001b[1;31mValueError\u001b[0m: time data \"2025\" doesn't match format \"%d-%m-%Y\", at position 0. You might want to try:\n    - passing `format` if your strings have a consistent format;\n    - passing `format='ISO8601'` if your strings are all ISO8601 but not necessarily in exactly the same format;\n    - passing `format='mixed'`, and the format will be inferred for each element individually. You might want to use `dayfirst` alongside this."
     ]
    }
   ],
   "source": [
    "import pandas as pd\n",
    "import csv\n",
    "from datetime import datetime\n",
    "from data_entry import get_amount, get_category, get_date, get_description\n",
    "import matplotlib.pyplot as plt\n",
    "\n",
    "class CSV:\n",
    "    CSV_FILE=\"finance_data.csv\"\n",
    "    COLUMNS=['date','amount','category','description']\n",
    "    FORMAT='%d-%m-%Y'\n",
    "\n",
    "    @classmethod # Class method\n",
    "    def initialize_cvs(cls):\n",
    "        try:\n",
    "            pd.read_csv(cls.CSV_FILE)\n",
    "        except FileNotFoundError:\n",
    "            df=pd.DataFrame(columns=cls.COLUMNS)\n",
    "            df.to_csv(cls.CSV_FILE, index=False)\n",
    "\n",
    "\n",
    "    @classmethod\n",
    "    def add_entry(cls, date, amount, category, description):\n",
    "        new_entry={\n",
    "            'date':date,\n",
    "            'amount':amount,\n",
    "            'category':category,\n",
    "            'description':description\n",
    "        }\n",
    "        with open(cls.CSV_FILE, 'a', newline='') as csvfile:\n",
    "            writer=csv.DictWriter(csvfile, fieldnames=cls.COLUMNS)\n",
    "            writer.writerow(new_entry)\n",
    "        print('Entry added succesfully')\n",
    "\n",
    "\n",
    "    @classmethod\n",
    "    def get_transaction(cls, start_date, end_date):\n",
    "        \n",
    "        df = pd.read_csv(cls.CSV_FILE)\n",
    "        df['date'] = pd.to_datetime(df['date'], format=cls.FORMAT)\n",
    "        start_date = datetime.strptime(start_date, cls.FORMAT)\n",
    "        end_date = datetime.strptime(end_date, cls.FORMAT)\n",
    "        mask = (df['date'] >= start_date) & (df['date'] <= end_date)\n",
    "        filtered_df = df.loc[mask]\n",
    "        \n",
    "        if filtered_df.empty:\n",
    "            print('No transactions in the given date range')\n",
    "        else:\n",
    "            print(f'Transaction from {start_date.strftime(cls.FORMAT)} to {end_date.strftime(cls.FORMAT)}')\n",
    "            print(filtered_df.to_string(index=False, formatters={'date': lambda x: x.strftime(cls.FORMAT)}))\n",
    "        \n",
    "        total_income = filtered_df.loc[filtered_df['category'] == 'Income']['amount'].sum()\n",
    "        total_expense = filtered_df.loc[filtered_df['category'] == 'Expense']['amount'].sum()\n",
    "        print('\\nSummary:')\n",
    "        print(f'Total Income: ${total_income:.2f}')\n",
    "        print(f'Total Expense: ${total_expense:.2f}')\n",
    "        print(f'Net Savings: ${(total_income - total_expense):.2f}')\n",
    "\n",
    "            \n",
    "\n",
    "def add():\n",
    "    CSV.initialize_cvs()\n",
    "    date=get_date(\"Enter de date of transaction (dd-mm-yyyy) or enter for today's date: \", allow_default=True)\n",
    "    amount=get_amount()\n",
    "    category=get_category()\n",
    "    description=get_description()\n",
    "    CSV.add_entry(date,amount,category,description)\n",
    "\n",
    "def plot_transactions(df):\n",
    "    df.set_index('date',inplace=True)\n",
    "\n",
    "    income_df=df.loc[df['category']=='Income'].resample('D').sum().reindex(df.index,fill_value=0)\n",
    "    #DataFrame income_df tiene una fila para cada día del rango de fechas de tu DataFrame original, aunque no haya habido ingresos ese día \n",
    "    #(en ese caso, el valor será 0)\n",
    "    expense_df=df.loc[df['category']=='Expense'].resample('D').sum().reindex(df.index,fill_value=0)\n",
    "    plt.figure(figsize=(10,5)\n",
    "    plt.plot(income_df.index,income_df['amount'], label='Income', color='g')\n",
    "    plt.plot(expense_df.index,expense_df['amount'], label='Expense', color='r')\n",
    "    plt.xlabel('Date')\n",
    "    plt.ylabel('Amount')\n",
    "    plt.title('Income and Expense Over Time')\n",
    "    plt.legend()\n",
    "    plt.grid(True)\n",
    "    plt.show()\n",
    "               \n",
    "def main():\n",
    "    while True:\n",
    "        print('\\n1. Add a new transaction')\n",
    "        print('2. View transaction and summary within a date range')\n",
    "        print('3. Exit')\n",
    "        choice=input('Enter your choice (1-3): ')\n",
    "\n",
    "        if choice == '1':\n",
    "            add()\n",
    "        elif choice == '2':\n",
    "            start_date=get_date('Enter the start date (dd-mm-yy): ')\n",
    "            end_date=get_date('Enter the end date (dd-mm-yy): ')\n",
    "            CSV.get_transaction(start_date,end_date)\n",
    "            if input('Do you want to plot ? (y/n) ').lower() == 'y':\n",
    "                plot_transactions(df)\n",
    "        elif choice=='3':\n",
    "            print('Exiting...')\n",
    "            break\n",
    "        else:\n",
    "            print('Invalid choice. Enter 1, 2 or 3.')\n",
    "            \n",
    "\n",
    "\n",
    "if __name__=='__main__':\n",
    "    main()\n"
   ]
  },
  {
   "cell_type": "code",
   "execution_count": 28,
   "id": "3aebc49f-594c-4ceb-8fca-a9f1100ebd0c",
   "metadata": {},
   "outputs": [],
   "source": [
    "df=pd.read_csv('finance_data1.csv')\n"
   ]
  },
  {
   "cell_type": "code",
   "execution_count": 46,
   "id": "29ce0f17-aa87-4f2e-90e1-7974baa22833",
   "metadata": {},
   "outputs": [
    {
     "data": {
      "text/html": [
       "<div>\n",
       "<style scoped>\n",
       "    .dataframe tbody tr th:only-of-type {\n",
       "        vertical-align: middle;\n",
       "    }\n",
       "\n",
       "    .dataframe tbody tr th {\n",
       "        vertical-align: top;\n",
       "    }\n",
       "\n",
       "    .dataframe thead th {\n",
       "        text-align: right;\n",
       "    }\n",
       "</style>\n",
       "<table border=\"1\" class=\"dataframe\">\n",
       "  <thead>\n",
       "    <tr style=\"text-align: right;\">\n",
       "      <th></th>\n",
       "      <th>date</th>\n",
       "      <th>amount</th>\n",
       "      <th>category</th>\n",
       "      <th>description</th>\n",
       "    </tr>\n",
       "  </thead>\n",
       "  <tbody>\n",
       "    <tr>\n",
       "      <th>0</th>\n",
       "      <td>2024-07-01</td>\n",
       "      <td>1000.0</td>\n",
       "      <td>Income</td>\n",
       "      <td>Salary</td>\n",
       "    </tr>\n",
       "    <tr>\n",
       "      <th>1</th>\n",
       "      <td>2024-07-02</td>\n",
       "      <td>50.0</td>\n",
       "      <td>Expense</td>\n",
       "      <td>Groceries</td>\n",
       "    </tr>\n",
       "    <tr>\n",
       "      <th>2</th>\n",
       "      <td>2024-07-03</td>\n",
       "      <td>150.0</td>\n",
       "      <td>Expense</td>\n",
       "      <td>Utilities</td>\n",
       "    </tr>\n",
       "    <tr>\n",
       "      <th>3</th>\n",
       "      <td>2024-07-04</td>\n",
       "      <td>200.0</td>\n",
       "      <td>Income</td>\n",
       "      <td>Freelance Work</td>\n",
       "    </tr>\n",
       "    <tr>\n",
       "      <th>4</th>\n",
       "      <td>2024-07-05</td>\n",
       "      <td>75.0</td>\n",
       "      <td>Expense</td>\n",
       "      <td>Restaurant</td>\n",
       "    </tr>\n",
       "  </tbody>\n",
       "</table>\n",
       "</div>"
      ],
      "text/plain": [
       "        date  amount category     description\n",
       "0 2024-07-01  1000.0   Income          Salary\n",
       "1 2024-07-02    50.0  Expense       Groceries\n",
       "2 2024-07-03   150.0  Expense       Utilities\n",
       "3 2024-07-04   200.0   Income  Freelance Work\n",
       "4 2024-07-05    75.0  Expense      Restaurant"
      ]
     },
     "execution_count": 46,
     "metadata": {},
     "output_type": "execute_result"
    }
   ],
   "source": [
    "df.head()"
   ]
  },
  {
   "cell_type": "code",
   "execution_count": 44,
   "id": "6fc14ec1-2b21-4868-946c-3e3c60eb04ce",
   "metadata": {},
   "outputs": [],
   "source": [
    "df['date']=pd.to_datetime(df['date'], format='%d-%m-%Y')"
   ]
  },
  {
   "cell_type": "code",
   "execution_count": 54,
   "id": "743a7386-ba19-433a-a1c3-367c97cdcbf7",
   "metadata": {},
   "outputs": [],
   "source": [
    "df2=df.loc[(df['date']>='2024-07-02') & (df['date']<='2024-07-04')]"
   ]
  },
  {
   "cell_type": "code",
   "execution_count": 64,
   "id": "30662106-572f-4b92-93ad-2c2b0005585d",
   "metadata": {},
   "outputs": [
    {
     "data": {
      "text/html": [
       "<div>\n",
       "<style scoped>\n",
       "    .dataframe tbody tr th:only-of-type {\n",
       "        vertical-align: middle;\n",
       "    }\n",
       "\n",
       "    .dataframe tbody tr th {\n",
       "        vertical-align: top;\n",
       "    }\n",
       "\n",
       "    .dataframe thead th {\n",
       "        text-align: right;\n",
       "    }\n",
       "</style>\n",
       "<table border=\"1\" class=\"dataframe\">\n",
       "  <thead>\n",
       "    <tr style=\"text-align: right;\">\n",
       "      <th></th>\n",
       "      <th>date</th>\n",
       "      <th>amount</th>\n",
       "      <th>category</th>\n",
       "      <th>description</th>\n",
       "    </tr>\n",
       "  </thead>\n",
       "  <tbody>\n",
       "    <tr>\n",
       "      <th>1</th>\n",
       "      <td>2024-07-02</td>\n",
       "      <td>50.0</td>\n",
       "      <td>Expense</td>\n",
       "      <td>Groceries</td>\n",
       "    </tr>\n",
       "    <tr>\n",
       "      <th>2</th>\n",
       "      <td>2024-07-03</td>\n",
       "      <td>150.0</td>\n",
       "      <td>Expense</td>\n",
       "      <td>Utilities</td>\n",
       "    </tr>\n",
       "    <tr>\n",
       "      <th>3</th>\n",
       "      <td>2024-07-04</td>\n",
       "      <td>200.0</td>\n",
       "      <td>Income</td>\n",
       "      <td>Freelance Work</td>\n",
       "    </tr>\n",
       "  </tbody>\n",
       "</table>\n",
       "</div>"
      ],
      "text/plain": [
       "        date  amount category     description\n",
       "1 2024-07-02    50.0  Expense       Groceries\n",
       "2 2024-07-03   150.0  Expense       Utilities\n",
       "3 2024-07-04   200.0   Income  Freelance Work"
      ]
     },
     "execution_count": 64,
     "metadata": {},
     "output_type": "execute_result"
    }
   ],
   "source": [
    "df2"
   ]
  },
  {
   "cell_type": "code",
   "execution_count": 80,
   "id": "a186521a-c0e4-419e-b235-ce36f1835ce1",
   "metadata": {},
   "outputs": [
    {
     "data": {
      "text/plain": [
       "200.0"
      ]
     },
     "execution_count": 80,
     "metadata": {},
     "output_type": "execute_result"
    }
   ],
   "source": [
    "df2.reindex()"
   ]
  }
 ],
 "metadata": {
  "kernelspec": {
   "display_name": "Python [conda env:base] *",
   "language": "python",
   "name": "conda-base-py"
  },
  "language_info": {
   "codemirror_mode": {
    "name": "ipython",
    "version": 3
   },
   "file_extension": ".py",
   "mimetype": "text/x-python",
   "name": "python",
   "nbconvert_exporter": "python",
   "pygments_lexer": "ipython3",
   "version": "3.12.7"
  }
 },
 "nbformat": 4,
 "nbformat_minor": 5
}
