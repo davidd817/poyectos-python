{
 "cells": [
  {
   "cell_type": "code",
   "execution_count": 44,
   "id": "88170ca9-5242-4547-8d5f-d3e37e993297",
   "metadata": {},
   "outputs": [
    {
     "name": "stdout",
     "output_type": "stream",
     "text": [
      "Entry added succesfully\n"
     ]
    }
   ],
   "source": [
    "from datetime import datetime\n",
    "\n",
    "\n",
    "date_format='%d-%m-%Y'\n",
    "CATEGORIES={'I':'Income','E':'Expense'}\n",
    "\n",
    "def get_date(prompt,allow_default=True):\n",
    "    date_str=input(prompt)\n",
    "    if allow_default and not date_str:\n",
    "        return datetime.today().strftime(date_format)\n",
    "    try:\n",
    "        valid_date=datetime.strptime(date_str,date_format)\n",
    "        return valid_date.strftime(date_format)\n",
    "\n",
    "    except ValueError:\n",
    "        print('Invalid date format. Please enter de date in dd-mm-yyyy format')\n",
    "        return get_date(prompt,allow_default)\n",
    "    \n",
    "\n",
    "def get_amount():\n",
    "    try:\n",
    "        amount=float(input('Enter the amount: '))\n",
    "        if amount <=0:\n",
    "            raise ValueError('Amount must be a non-negative non-zero value.')\n",
    "        return amount\n",
    "\n",
    "    except ValueError as e:\n",
    "        print(e)\n",
    "        return get_amount()\n",
    "\n",
    "\n",
    "\n",
    "def get_category():\n",
    "    category=input(\"Enter the category ('I' for Income or 'E' for Expense): \").upper()\n",
    "    if category in CATEGORIES:\n",
    "        return CATEGORIES[category]\n",
    "\n",
    "    else:\n",
    "        print(\"Invalid category. Please enter 'I' for Income or 'E' for Expense\")\n",
    "        return get_category()\n",
    "        \n",
    "\n",
    "def get_description():\n",
    "    return input('Enter description')\n"
   ]
  },
  {
   "cell_type": "code",
   "execution_count": null,
   "id": "871f67d1-1a5d-4451-980c-027a5c2160e4",
   "metadata": {},
   "outputs": [],
   "source": []
  },
  {
   "cell_type": "code",
   "execution_count": null,
   "id": "3ef20de1-78ba-4d05-922a-0e41e26afb5c",
   "metadata": {},
   "outputs": [],
   "source": []
  }
 ],
 "metadata": {
  "kernelspec": {
   "display_name": "Python [conda env:base] *",
   "language": "python",
   "name": "conda-base-py"
  },
  "language_info": {
   "codemirror_mode": {
    "name": "ipython",
    "version": 3
   },
   "file_extension": ".py",
   "mimetype": "text/x-python",
   "name": "python",
   "nbconvert_exporter": "python",
   "pygments_lexer": "ipython3",
   "version": "3.12.7"
  }
 },
 "nbformat": 4,
 "nbformat_minor": 5
}
