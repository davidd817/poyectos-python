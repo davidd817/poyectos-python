{
 "cells": [
  {
   "cell_type": "code",
   "execution_count": 85,
   "id": "15ad3037-2b44-4fab-b3b6-879632c2e303",
   "metadata": {},
   "outputs": [],
   "source": [
    "import pandas as pd\n",
    "import numpy as no\n",
    "import matplotlib.pyplot as plt\n",
    "import seaborn as sns\n",
    "from ucimlrepo import fetch_ucirepo\n",
    "\n",
    "from sklearn.preprocessing import OneHotEncoder\n",
    "from sklearn.preprocessing import StandardScaler\n"
   ]
  },
  {
   "cell_type": "markdown",
   "id": "40c62352-9187-4f6a-b3ae-441b63b5befe",
   "metadata": {},
   "source": [
    "# Load Data"
   ]
  },
  {
   "cell_type": "code",
   "execution_count": 3,
   "id": "096fe388-185d-46b2-be93-9114fc2b1ecc",
   "metadata": {},
   "outputs": [],
   "source": [
    "# Load Data from German Credit Data:\n",
    "\n",
    "statlog_german_credit_data = fetch_ucirepo(id=144)\n",
    "X = statlog_german_credit_data.data.features\n",
    "y = statlog_german_credit_data.data.targets\n"
   ]
  },
  {
   "cell_type": "code",
   "execution_count": 11,
   "id": "fc50d476-8c28-4c78-bb38-49c696e78e5a",
   "metadata": {},
   "outputs": [
    {
     "name": "stdout",
     "output_type": "stream",
     "text": [
      "(1000, 20) (1000, 1)\n",
      "  Attribute1  Attribute2 Attribute3 Attribute4  Attribute5 Attribute6  \\\n",
      "0        A11           6        A34        A43        1169        A65   \n",
      "1        A12          48        A32        A43        5951        A61   \n",
      "2        A14          12        A34        A46        2096        A61   \n",
      "3        A11          42        A32        A42        7882        A61   \n",
      "4        A11          24        A33        A40        4870        A61   \n",
      "\n",
      "  Attribute7  Attribute8 Attribute9 Attribute10  Attribute11 Attribute12  \\\n",
      "0        A75           4        A93        A101            4        A121   \n",
      "1        A73           2        A92        A101            2        A121   \n",
      "2        A74           2        A93        A101            3        A121   \n",
      "3        A74           2        A93        A103            4        A122   \n",
      "4        A73           3        A93        A101            4        A124   \n",
      "\n",
      "   Attribute13 Attribute14 Attribute15  Attribute16 Attribute17  Attribute18  \\\n",
      "0           67        A143        A152            2        A173            1   \n",
      "1           22        A143        A152            1        A173            1   \n",
      "2           49        A143        A152            1        A172            2   \n",
      "3           45        A143        A153            1        A173            2   \n",
      "4           53        A143        A153            2        A173            2   \n",
      "\n",
      "  Attribute19 Attribute20  \n",
      "0        A192        A201  \n",
      "1        A191        A201  \n",
      "2        A191        A201  \n",
      "3        A191        A201  \n",
      "4        A191        A201  \n",
      "class\n",
      "1        700\n",
      "2        300\n",
      "Name: count, dtype: int64\n",
      "<class 'pandas.core.frame.DataFrame'>\n",
      "RangeIndex: 1000 entries, 0 to 999\n",
      "Data columns (total 20 columns):\n",
      " #   Column       Non-Null Count  Dtype \n",
      "---  ------       --------------  ----- \n",
      " 0   Attribute1   1000 non-null   object\n",
      " 1   Attribute2   1000 non-null   int64 \n",
      " 2   Attribute3   1000 non-null   object\n",
      " 3   Attribute4   1000 non-null   object\n",
      " 4   Attribute5   1000 non-null   int64 \n",
      " 5   Attribute6   1000 non-null   object\n",
      " 6   Attribute7   1000 non-null   object\n",
      " 7   Attribute8   1000 non-null   int64 \n",
      " 8   Attribute9   1000 non-null   object\n",
      " 9   Attribute10  1000 non-null   object\n",
      " 10  Attribute11  1000 non-null   int64 \n",
      " 11  Attribute12  1000 non-null   object\n",
      " 12  Attribute13  1000 non-null   int64 \n",
      " 13  Attribute14  1000 non-null   object\n",
      " 14  Attribute15  1000 non-null   object\n",
      " 15  Attribute16  1000 non-null   int64 \n",
      " 16  Attribute17  1000 non-null   object\n",
      " 17  Attribute18  1000 non-null   int64 \n",
      " 18  Attribute19  1000 non-null   object\n",
      " 19  Attribute20  1000 non-null   object\n",
      "dtypes: int64(7), object(13)\n",
      "memory usage: 156.4+ KB\n",
      "None\n"
     ]
    }
   ],
   "source": [
    "print(X.shape,y.shape)\n",
    "print(X.head())\n",
    "print(y.value_counts())\n",
    "print(X.info())"
   ]
  },
  {
   "cell_type": "raw",
   "id": "107d1eca-ad41-4e1f-b4f5-57d4102fd795",
   "metadata": {},
   "source": [
    "Target:\n",
    "1: Good credit risk\n",
    "2: Bad credit risk \n",
    "\n",
    "Official information about variables: https://archive.ics.uci.edu/dataset/144/statlog+german+credit+data"
   ]
  },
  {
   "cell_type": "code",
   "execution_count": 61,
   "id": "744dbfd7-e470-4910-acb0-8afbb8404231",
   "metadata": {},
   "outputs": [
    {
     "data": {
      "text/plain": [
       "Index(['Attribute1', 'Attribute2', 'Attribute3', 'Attribute4', 'Attribute5',\n",
       "       'Attribute6', 'Attribute7', 'Attribute8', 'Attribute9', 'Attribute10',\n",
       "       'Attribute11', 'Attribute12', 'Attribute13', 'Attribute14',\n",
       "       'Attribute15', 'Attribute16', 'Attribute17', 'Attribute18',\n",
       "       'Attribute19', 'Attribute20'],\n",
       "      dtype='object')"
      ]
     },
     "execution_count": 61,
     "metadata": {},
     "output_type": "execute_result"
    }
   ],
   "source": [
    "X.columns"
   ]
  },
  {
   "cell_type": "code",
   "execution_count": 25,
   "id": "df44413c-dc0b-425c-873d-27e0d13b134a",
   "metadata": {},
   "outputs": [
    {
     "name": "stdout",
     "output_type": "stream",
     "text": [
      "Categorical cols: ['Attribute1', 'Attribute3', 'Attribute4', 'Attribute6', 'Attribute7', 'Attribute9', 'Attribute10', 'Attribute12', 'Attribute14', 'Attribute15', 'Attribute17', 'Attribute19', 'Attribute20']\n",
      "Numeric cols: ['Attribute2', 'Attribute5', 'Attribute8', 'Attribute11', 'Attribute13', 'Attribute16', 'Attribute18']\n"
     ]
    }
   ],
   "source": [
    "# categorical and numeric variables\n",
    "categorical_cols = X.select_dtypes(include=['object', 'category']).columns.tolist()\n",
    "numeric_cols = X.select_dtypes(include=['int64', 'float64']).columns.tolist()\n",
    "\n",
    "print(\"Categorical cols:\", categorical_cols)\n",
    "print(\"Numeric cols:\", numeric_cols)\n"
   ]
  },
  {
   "cell_type": "code",
   "execution_count": 59,
   "id": "4ac225f9-988e-49d6-8c29-43a12889eff3",
   "metadata": {},
   "outputs": [
    {
     "data": {
      "image/png": "[encoded data removed]",
      "text/plain": [
       "<Figure size 600x400 with 1 Axes>"
      ]
     },
     "metadata": {},
     "output_type": "display_data"
    }
   ],
   "source": [
    "plt.figure(figsize=(6,4))\n",
    "sns.countplot(data=y , x='class')\n",
    "plt.title(\"Target distribution (1-good / 2-bad)\")\n",
    "plt.show()"
   ]
  },
  {
   "cell_type": "markdown",
   "id": "2fbe0b8e-1021-425a-9ca0-f6a1b9819989",
   "metadata": {},
   "source": [
    "# Data processing"
   ]
  },
  {
   "cell_type": "code",
   "execution_count": 63,
   "id": "439cb1a7-b6dd-4402-a45e-0d212b962ad2",
   "metadata": {},
   "outputs": [
    {
     "data": {
      "text/plain": [
       "Attribute1     0\n",
       "Attribute2     0\n",
       "Attribute3     0\n",
       "Attribute4     0\n",
       "Attribute5     0\n",
       "Attribute6     0\n",
       "Attribute7     0\n",
       "Attribute8     0\n",
       "Attribute9     0\n",
       "Attribute10    0\n",
       "Attribute11    0\n",
       "Attribute12    0\n",
       "Attribute13    0\n",
       "Attribute14    0\n",
       "Attribute15    0\n",
       "Attribute16    0\n",
       "Attribute17    0\n",
       "Attribute18    0\n",
       "Attribute19    0\n",
       "Attribute20    0\n",
       "dtype: int64"
      ]
     },
     "execution_count": 63,
     "metadata": {},
     "output_type": "execute_result"
    }
   ],
   "source": [
    "X.isnull().sum() # check  null\n",
    "# in case there were null values:\n",
    "#    for col in X.select_dtypes(include=['object', 'category']):\n",
    "#       X[col].fillna(X[col].mode()[0])\n",
    "    \n",
    "#    for col in X.select_dtypes(include=['int64', 'float64']):\n",
    "#        X[col].fillna(X[col].median())"
   ]
  },
  {
   "cell_type": "code",
   "execution_count": 81,
   "id": "5b202e36-6d85-4ad8-9d8f-905d909d69b9",
   "metadata": {},
   "outputs": [],
   "source": [
    "# OneHotEncoder - Categorical values - get_dummies\n",
    "\n",
    "X_encoded=pd.get_dummies(data=X, columns=categorical_cols, drop_first=True, dtype=int)"
   ]
  },
  {
   "cell_type": "raw",
   "id": "8e0200f5-f46f-4762-8202-d00bdcc28624",
   "metadata": {},
   "source": [
    "drop_first=True:\n",
    "Elimina la primera categoría de cada variable para evitar la colinealidad (la llamada \"trampa de las variables ficticias\" o \"dummy variable trap\").\n",
    "Así, si una columna tenía 4 categorías, solo se crean 3 columnas dummy."
   ]
  },
  {
   "cell_type": "code",
   "execution_count": 83,
   "id": "c634d65c-328d-40ba-ac9a-0a5d5949d196",
   "metadata": {},
   "outputs": [
    {
     "name": "stdout",
     "output_type": "stream",
     "text": [
      "(1000, 20) (1000, 48)\n",
      "   Attribute2  Attribute5  Attribute8  Attribute11  Attribute13  Attribute16  \\\n",
      "0           6        1169           4            4           67            2   \n",
      "1          48        5951           2            2           22            1   \n",
      "2          12        2096           2            3           49            1   \n",
      "3          42        7882           2            4           45            1   \n",
      "4          24        4870           3            4           53            2   \n",
      "\n",
      "   Attribute18  Attribute1_A12  Attribute1_A13  Attribute1_A14  ...  \\\n",
      "0            1               0               0               0  ...   \n",
      "1            1               1               0               0  ...   \n",
      "2            2               0               0               1  ...   \n",
      "3            2               0               0               0  ...   \n",
      "4            2               0               0               0  ...   \n",
      "\n",
      "   Attribute12_A124  Attribute14_A142  Attribute14_A143  Attribute15_A152  \\\n",
      "0                 0                 0                 1                 1   \n",
      "1                 0                 0                 1                 1   \n",
      "2                 0                 0                 1                 1   \n",
      "3                 0                 0                 1                 0   \n",
      "4                 1                 0                 1                 0   \n",
      "\n",
      "   Attribute15_A153  Attribute17_A172  Attribute17_A173  Attribute17_A174  \\\n",
      "0                 0                 0                 1                 0   \n",
      "1                 0                 0                 1                 0   \n",
      "2                 0                 1                 0                 0   \n",
      "3                 1                 0                 1                 0   \n",
      "4                 1                 0                 1                 0   \n",
      "\n",
      "   Attribute19_A192  Attribute20_A202  \n",
      "0                 1                 0  \n",
      "1                 0                 0  \n",
      "2                 0                 0  \n",
      "3                 0                 0  \n",
      "4                 0                 0  \n",
      "\n",
      "[5 rows x 48 columns]\n"
     ]
    }
   ],
   "source": [
    "print(X.shape,X_encoded.shape)\n",
    "print(X_encoded.head())"
   ]
  },
  {
   "cell_type": "code",
   "execution_count": 87,
   "id": "88baf617-7028-40fb-a1ed-e1d50e6f3f70",
   "metadata": {},
   "outputs": [],
   "source": [
    "# Standarization -- StandardScaler\n",
    "scaler = StandardScaler()\n",
    "X_encoded[numeric_cols] = scaler.fit_transform(X_encoded[numeric_cols])"
   ]
  },
  {
   "cell_type": "code",
   "execution_count": 91,
   "id": "55f17732-ef66-44a8-9b81-d8d3eb27b99e",
   "metadata": {},
   "outputs": [
    {
     "name": "stdout",
     "output_type": "stream",
     "text": [
      "   Attribute2  Attribute5  Attribute8  Attribute11  Attribute13  Attribute16  \\\n",
      "0   -1.236478   -0.745131    0.918477     1.046987     2.766456     1.027079   \n",
      "1    2.248194    0.949817   -0.870183    -0.765977    -1.191404    -0.704926   \n",
      "2   -0.738668   -0.416562   -0.870183     0.140505     1.183312    -0.704926   \n",
      "3    1.750384    1.634247   -0.870183     1.046987     0.831502    -0.704926   \n",
      "4    0.256953    0.566664    0.024147     1.046987     1.535122     1.027079   \n",
      "\n",
      "   Attribute18  Attribute1_A12  Attribute1_A13  Attribute1_A14  ...  \\\n",
      "0    -0.428290               0               0               0  ...   \n",
      "1    -0.428290               1               0               0  ...   \n",
      "2     2.334869               0               0               1  ...   \n",
      "3     2.334869               0               0               0  ...   \n",
      "4     2.334869               0               0               0  ...   \n",
      "\n",
      "   Attribute12_A124  Attribute14_A142  Attribute14_A143  Attribute15_A152  \\\n",
      "0                 0                 0                 1                 1   \n",
      "1                 0                 0                 1                 1   \n",
      "2                 0                 0                 1                 1   \n",
      "3                 0                 0                 1                 0   \n",
      "4                 1                 0                 1                 0   \n",
      "\n",
      "   Attribute15_A153  Attribute17_A172  Attribute17_A173  Attribute17_A174  \\\n",
      "0                 0                 0                 1                 0   \n",
      "1                 0                 0                 1                 0   \n",
      "2                 0                 1                 0                 0   \n",
      "3                 1                 0                 1                 0   \n",
      "4                 1                 0                 1                 0   \n",
      "\n",
      "   Attribute19_A192  Attribute20_A202  \n",
      "0                 1                 0  \n",
      "1                 0                 0  \n",
      "2                 0                 0  \n",
      "3                 0                 0  \n",
      "4                 0                 0  \n",
      "\n",
      "[5 rows x 48 columns]\n",
      "<class 'pandas.core.frame.DataFrame'>\n",
      "RangeIndex: 1000 entries, 0 to 999\n",
      "Data columns (total 48 columns):\n",
      " #   Column            Non-Null Count  Dtype  \n",
      "---  ------            --------------  -----  \n",
      " 0   Attribute2        1000 non-null   float64\n",
      " 1   Attribute5        1000 non-null   float64\n",
      " 2   Attribute8        1000 non-null   float64\n",
      " 3   Attribute11       1000 non-null   float64\n",
      " 4   Attribute13       1000 non-null   float64\n",
      " 5   Attribute16       1000 non-null   float64\n",
      " 6   Attribute18       1000 non-null   float64\n",
      " 7   Attribute1_A12    1000 non-null   int32  \n",
      " 8   Attribute1_A13    1000 non-null   int32  \n",
      " 9   Attribute1_A14    1000 non-null   int32  \n",
      " 10  Attribute3_A31    1000 non-null   int32  \n",
      " 11  Attribute3_A32    1000 non-null   int32  \n",
      " 12  Attribute3_A33    1000 non-null   int32  \n",
      " 13  Attribute3_A34    1000 non-null   int32  \n",
      " 14  Attribute4_A41    1000 non-null   int32  \n",
      " 15  Attribute4_A410   1000 non-null   int32  \n",
      " 16  Attribute4_A42    1000 non-null   int32  \n",
      " 17  Attribute4_A43    1000 non-null   int32  \n",
      " 18  Attribute4_A44    1000 non-null   int32  \n",
      " 19  Attribute4_A45    1000 non-null   int32  \n",
      " 20  Attribute4_A46    1000 non-null   int32  \n",
      " 21  Attribute4_A48    1000 non-null   int32  \n",
      " 22  Attribute4_A49    1000 non-null   int32  \n",
      " 23  Attribute6_A62    1000 non-null   int32  \n",
      " 24  Attribute6_A63    1000 non-null   int32  \n",
      " 25  Attribute6_A64    1000 non-null   int32  \n",
      " 26  Attribute6_A65    1000 non-null   int32  \n",
      " 27  Attribute7_A72    1000 non-null   int32  \n",
      " 28  Attribute7_A73    1000 non-null   int32  \n",
      " 29  Attribute7_A74    1000 non-null   int32  \n",
      " 30  Attribute7_A75    1000 non-null   int32  \n",
      " 31  Attribute9_A92    1000 non-null   int32  \n",
      " 32  Attribute9_A93    1000 non-null   int32  \n",
      " 33  Attribute9_A94    1000 non-null   int32  \n",
      " 34  Attribute10_A102  1000 non-null   int32  \n",
      " 35  Attribute10_A103  1000 non-null   int32  \n",
      " 36  Attribute12_A122  1000 non-null   int32  \n",
      " 37  Attribute12_A123  1000 non-null   int32  \n",
      " 38  Attribute12_A124  1000 non-null   int32  \n",
      " 39  Attribute14_A142  1000 non-null   int32  \n",
      " 40  Attribute14_A143  1000 non-null   int32  \n",
      " 41  Attribute15_A152  1000 non-null   int32  \n",
      " 42  Attribute15_A153  1000 non-null   int32  \n",
      " 43  Attribute17_A172  1000 non-null   int32  \n",
      " 44  Attribute17_A173  1000 non-null   int32  \n",
      " 45  Attribute17_A174  1000 non-null   int32  \n",
      " 46  Attribute19_A192  1000 non-null   int32  \n",
      " 47  Attribute20_A202  1000 non-null   int32  \n",
      "dtypes: float64(7), int32(41)\n",
      "memory usage: 215.0 KB\n",
      "None\n"
     ]
    }
   ],
   "source": [
    "print(X_encoded.head())\n",
    "print(X_encoded.info())\n"
   ]
  },
  {
   "cell_type": "markdown",
   "id": "5b9a669b-6153-4c19-979b-47d62ed5faa2",
   "metadata": {},
   "source": [
    "# EDA"
   ]
  },
  {
   "cell_type": "code",
   "execution_count": 95,
   "id": "ba2607ae-edb8-43bc-8720-3f5e6fab8d98",
   "metadata": {},
   "outputs": [],
   "source": [
    "# Transform target 1-->1 / 2-->0\n",
    "y_bin=y.replace({1:1,2:0})"
   ]
  },
  {
   "cell_type": "code",
   "execution_count": 121,
   "id": "2d67feff-50f5-4686-b125-528e32f44ce5",
   "metadata": {},
   "outputs": [
    {
     "data": {
      "image/png": "[encoded data removed]",
      "text/plain": [
       "<Figure size 800x400 with 1 Axes>"
      ]
     },
     "metadata": {},
     "output_type": "display_data"
    }
   ],
   "source": [
    "# Correlation \n",
    "corrs = X_encoded[numeric_cols].corrwith(y_bin['class'])\n",
    "\n",
    "plt.figure(figsize=(8, 4))\n",
    "corrs.sort_values().plot(kind='barh')\n",
    "plt.title(\"Correlation - Numeric Values / Target\")\n",
    "plt.xlabel(\"Correlation\")\n",
    "plt.show()"
   ]
  },
  {
   "cell_type": "code",
   "execution_count": 115,
   "id": "890f39ed-507e-4a25-994b-85209234992d",
   "metadata": {},
   "outputs": [
    {
     "data": {
      "text/html": [
       "<div>\n",
       "<style scoped>\n",
       "    .dataframe tbody tr th:only-of-type {\n",
       "        vertical-align: middle;\n",
       "    }\n",
       "\n",
       "    .dataframe tbody tr th {\n",
       "        vertical-align: top;\n",
       "    }\n",
       "\n",
       "    .dataframe thead th {\n",
       "        text-align: right;\n",
       "    }\n",
       "</style>\n",
       "<table border=\"1\" class=\"dataframe\">\n",
       "  <thead>\n",
       "    <tr style=\"text-align: right;\">\n",
       "      <th></th>\n",
       "      <th>class</th>\n",
       "    </tr>\n",
       "  </thead>\n",
       "  <tbody>\n",
       "    <tr>\n",
       "      <th>0</th>\n",
       "      <td>1</td>\n",
       "    </tr>\n",
       "    <tr>\n",
       "      <th>1</th>\n",
       "      <td>0</td>\n",
       "    </tr>\n",
       "    <tr>\n",
       "      <th>2</th>\n",
       "      <td>1</td>\n",
       "    </tr>\n",
       "    <tr>\n",
       "      <th>3</th>\n",
       "      <td>1</td>\n",
       "    </tr>\n",
       "    <tr>\n",
       "      <th>4</th>\n",
       "      <td>0</td>\n",
       "    </tr>\n",
       "    <tr>\n",
       "      <th>...</th>\n",
       "      <td>...</td>\n",
       "    </tr>\n",
       "    <tr>\n",
       "      <th>995</th>\n",
       "      <td>1</td>\n",
       "    </tr>\n",
       "    <tr>\n",
       "      <th>996</th>\n",
       "      <td>1</td>\n",
       "    </tr>\n",
       "    <tr>\n",
       "      <th>997</th>\n",
       "      <td>1</td>\n",
       "    </tr>\n",
       "    <tr>\n",
       "      <th>998</th>\n",
       "      <td>0</td>\n",
       "    </tr>\n",
       "    <tr>\n",
       "      <th>999</th>\n",
       "      <td>1</td>\n",
       "    </tr>\n",
       "  </tbody>\n",
       "</table>\n",
       "<p>1000 rows × 1 columns</p>\n",
       "</div>"
      ],
      "text/plain": [
       "     class\n",
       "0        1\n",
       "1        0\n",
       "2        1\n",
       "3        1\n",
       "4        0\n",
       "..     ...\n",
       "995      1\n",
       "996      1\n",
       "997      1\n",
       "998      0\n",
       "999      1\n",
       "\n",
       "[1000 rows x 1 columns]"
      ]
     },
     "execution_count": 115,
     "metadata": {},
     "output_type": "execute_result"
    }
   ],
   "source": [
    "y_bin"
   ]
  },
  {
   "cell_type": "code",
   "execution_count": null,
   "id": "c7055737-57b3-485d-ab83-f55edb327cc0",
   "metadata": {},
   "outputs": [],
   "source": []
  }
 ],
 "metadata": {
  "kernelspec": {
   "display_name": "Python [conda env:base] *",
   "language": "python",
   "name": "conda-base-py"
  },
  "language_info": {
   "codemirror_mode": {
    "name": "ipython",
    "version": 3
   },
   "file_extension": ".py",
   "mimetype": "text/x-python",
   "name": "python",
   "nbconvert_exporter": "python",
   "pygments_lexer": "ipython3",
   "version": "3.12.7"
  }
 },
 "nbformat": 4,
 "nbformat_minor": 5
}
